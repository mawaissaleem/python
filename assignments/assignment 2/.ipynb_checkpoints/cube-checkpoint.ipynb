{
 "cells": [
  {
   "cell_type": "code",
   "execution_count": 2,
   "id": "9d7bf37f",
   "metadata": {},
   "outputs": [
    {
     "name": "stdout",
     "output_type": "stream",
     "text": [
      "num_guesses = 6\n",
      "0.9296875 is close to the cube root of 0.8120601\n"
     ]
    }
   ],
   "source": [
    "# Assignment 2 code\n",
    "\n",
    "#cube = -27\n",
    "cube = 0.8120601\n",
    "#cube = 0.25\n",
    "epsilon = 0.01\n",
    "num_guesses = 0\n",
    "low = 0\n",
    "if cube<1 and cube>-1: #this condition covers the -1 to 1 range\n",
    "    high=1\n",
    "elif cube<0:  #condition for negative numbers less than -1\n",
    "    high = abs(cube)\n",
    "else: #for all the positive numbers greater than 1\n",
    "    high=cube\n",
    "\n",
    "guess = (high + low)/2.0\n",
    "while abs(guess**3 - abs(cube)) >= epsilon:\n",
    "    if guess**3 < (abs(cube)):\n",
    "        # look only in upper half search space\n",
    "        low = guess\n",
    "    else:\n",
    "        # look only in lower half search space\n",
    "        high = guess\n",
    "    # next guess is halfway in search space\n",
    "    guess = (high + low)/2.0\n",
    "    num_guesses += 1\n",
    "print('num_guesses =', num_guesses)\n",
    "print(guess, 'is close to the cube root of', cube)"
   ]
  },
  {
   "cell_type": "code",
   "execution_count": null,
   "id": "545a6f90",
   "metadata": {},
   "outputs": [],
   "source": []
  }
 ],
 "metadata": {
  "kernelspec": {
   "display_name": "Python 3 (ipykernel)",
   "language": "python",
   "name": "python3"
  },
  "language_info": {
   "codemirror_mode": {
    "name": "ipython",
    "version": 3
   },
   "file_extension": ".py",
   "mimetype": "text/x-python",
   "name": "python",
   "nbconvert_exporter": "python",
   "pygments_lexer": "ipython3",
   "version": "3.10.5"
  }
 },
 "nbformat": 4,
 "nbformat_minor": 5
}
