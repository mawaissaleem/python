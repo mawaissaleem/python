{
 "cells": [
  {
   "cell_type": "code",
   "execution_count": 2,
   "id": "82a0e89b",
   "metadata": {},
   "outputs": [
    {
     "name": "stdout",
     "output_type": "stream",
     "text": [
      "Enter the value of first number: 3\n",
      "Enter the value of second number: 2\n",
      "Before swapping: a= 3.0  and b= 2.0\n",
      "After swapping: a= 2.0 b= 2.0\n"
     ]
    }
   ],
   "source": [
    "a=float(input(\"Enter the value of first number: \"))\n",
    "b=float(input(\"Enter the value of second number: \"))\n",
    "print(\"Before swapping: a=\",a,\" and b=\",b)\n",
    "temp=a\n",
    "a=b\n",
    "b=a\n",
    "print(\"After swapping: a=\",a,\"b=\",b)"
   ]
  },
  {
   "cell_type": "code",
   "execution_count": null,
   "id": "6e39f044",
   "metadata": {},
   "outputs": [],
   "source": []
  }
 ],
 "metadata": {
  "kernelspec": {
   "display_name": "Python 3 (ipykernel)",
   "language": "python",
   "name": "python3"
  },
  "language_info": {
   "codemirror_mode": {
    "name": "ipython",
    "version": 3
   },
   "file_extension": ".py",
   "mimetype": "text/x-python",
   "name": "python",
   "nbconvert_exporter": "python",
   "pygments_lexer": "ipython3",
   "version": "3.10.5"
  }
 },
 "nbformat": 4,
 "nbformat_minor": 5
}
