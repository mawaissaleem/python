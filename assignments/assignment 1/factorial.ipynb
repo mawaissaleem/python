{
 "cells": [
  {
   "cell_type": "code",
   "execution_count": 11,
   "id": "3f36b16c",
   "metadata": {},
   "outputs": [
    {
     "name": "stdout",
     "output_type": "stream",
     "text": [
      "Enter the number: 4\n",
      "factorial of number 4 is 24\n"
     ]
    }
   ],
   "source": [
    "# #factorial using recursion\n",
    "\n",
    "# numb=int(input(\"Enter the number: \"))\n",
    "# fact=1\n",
    "\n",
    "# def factorial(numb):\n",
    "#     if numb==1:\n",
    "#         return 1\n",
    "#     else:\n",
    "#         out=numb*(factorial(numb-1))\n",
    "#         return out\n",
    "\n",
    "# fact=factorial(numb)\n",
    "# print(\"factorial of number\",numb,\"is\", fact)\n",
    "\n",
    "\n",
    "#without recursion\n",
    "\n",
    "numb=int(input(\"Enter the number: \"))\n",
    "fact=1\n",
    "\n",
    "if numb>0:\n",
    "    for i in range(1,numb+1):\n",
    "        fact=fact*i\n",
    "elif numb==0:\n",
    "    fact=1\n",
    "else:\n",
    "    print(\"enter the positive whole number\")\n",
    "\n",
    "if numb>0:\n",
    "    print(\"factorial of number\",numb,\"is\", fact)\n",
    "        "
   ]
  },
  {
   "cell_type": "code",
   "execution_count": null,
   "id": "896cffd6",
   "metadata": {},
   "outputs": [],
   "source": []
  },
  {
   "cell_type": "code",
   "execution_count": null,
   "id": "5953eacc",
   "metadata": {},
   "outputs": [],
   "source": []
  }
 ],
 "metadata": {
  "kernelspec": {
   "display_name": "Python 3 (ipykernel)",
   "language": "python",
   "name": "python3"
  },
  "language_info": {
   "codemirror_mode": {
    "name": "ipython",
    "version": 3
   },
   "file_extension": ".py",
   "mimetype": "text/x-python",
   "name": "python",
   "nbconvert_exporter": "python",
   "pygments_lexer": "ipython3",
   "version": "3.10.5"
  }
 },
 "nbformat": 4,
 "nbformat_minor": 5
}
