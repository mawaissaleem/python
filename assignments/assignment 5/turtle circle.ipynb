{
 "cells": [
  {
   "cell_type": "code",
   "execution_count": 1,
   "id": "2c51fac1",
   "metadata": {},
   "outputs": [
    {
     "name": "stdout",
     "output_type": "stream",
     "text": [
      "Enter the radius of the circle100\n"
     ]
    }
   ],
   "source": [
    "import turtle\n",
    "    \n",
    "# Initializing the turtle\n",
    "draw = turtle.Turtle()\n",
    "radius=int(input(\"Enter the radius of the circle \"))\n",
    "draw.circle(radius)"
   ]
  },
  {
   "cell_type": "code",
   "execution_count": null,
   "id": "1d2254a2",
   "metadata": {},
   "outputs": [],
   "source": []
  }
 ],
 "metadata": {
  "kernelspec": {
   "display_name": "Python 3 (ipykernel)",
   "language": "python",
   "name": "python3"
  },
  "language_info": {
   "codemirror_mode": {
    "name": "ipython",
    "version": 3
   },
   "file_extension": ".py",
   "mimetype": "text/x-python",
   "name": "python",
   "nbconvert_exporter": "python",
   "pygments_lexer": "ipython3",
   "version": "3.10.5"
  }
 },
 "nbformat": 4,
 "nbformat_minor": 5
}
