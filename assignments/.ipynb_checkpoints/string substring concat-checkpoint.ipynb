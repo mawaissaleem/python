{
 "cells": [
  {
   "cell_type": "code",
   "execution_count": 1,
   "id": "9e3a02a2",
   "metadata": {},
   "outputs": [
    {
     "name": "stdout",
     "output_type": "stream",
     "text": [
      "The length of string is:  29\n",
      "The substring is:  awais saleem\n",
      "substring found in string\n",
      "hello my name is talha ahmed\n"
     ]
    }
   ],
   "source": [
    "s=\"hello my name is awais saleem\"\n",
    "#length of string\n",
    "print(\"The length of string is: \", len(s))\n",
    "\n",
    "#sub string\n",
    "sub_s1=s[17:]\n",
    "print(\"The substring is: \",sub_s1)\n",
    "if sub_s1 in s:\n",
    "    print(\"substring found in string\")\n",
    "\n",
    "#concatination of strings\n",
    "greetings=s[0:17]\n",
    "# print(greetings)\n",
    "fname=\"talha\"\n",
    "lname=\"ahmed\"\n",
    "concat_str=greetings+fname+\" \"+lname\n",
    "\n",
    "print(concat_str)\n"
   ]
  },
  {
   "cell_type": "code",
   "execution_count": null,
   "id": "c72c5e4b",
   "metadata": {},
   "outputs": [],
   "source": []
  }
 ],
 "metadata": {
  "kernelspec": {
   "display_name": "Python 3 (ipykernel)",
   "language": "python",
   "name": "python3"
  },
  "language_info": {
   "codemirror_mode": {
    "name": "ipython",
    "version": 3
   },
   "file_extension": ".py",
   "mimetype": "text/x-python",
   "name": "python",
   "nbconvert_exporter": "python",
   "pygments_lexer": "ipython3",
   "version": "3.10.5"
  }
 },
 "nbformat": 4,
 "nbformat_minor": 5
}
