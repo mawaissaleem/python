{
 "cells": [
  {
   "cell_type": "code",
   "execution_count": 2,
   "id": "f1641f66",
   "metadata": {},
   "outputs": [
    {
     "name": "stdout",
     "output_type": "stream",
     "text": [
      "Current robot path is:  \n",
      "Enter the direction: right\n",
      "Current robot path is:  r\n",
      "Enter the direction: right\n",
      "Current robot path is:  rr\n",
      "Enter the direction: right\n",
      "Current robot path is:  rrr\n",
      "Enter the direction: forward\n",
      "Current robot path is:  rrrf\n",
      "Enter the direction: forward\n",
      "Current robot path is:  rrrff\n",
      "Enter the direction: forward\n",
      "Current robot path is:  rrrfff\n",
      "Enter the direction: forward\n",
      "Current robot path is:  rrrffff\n",
      "Enter the direction: forward\n",
      "Current robot path is:  rrrfffff\n",
      "Enter the direction: forward\n",
      "Current robot path is:  rrrffffff\n",
      "Enter the direction: forward\n",
      "wall infront of you! you cannot go there\n",
      "Current robot path is:  rrrffffff\n",
      "Enter the direction: right\n",
      "Current robot path is:  rrrffffffr\n",
      "Enter the direction: right\n",
      "you solved the maze.\n"
     ]
    }
   ],
   "source": [
    "\n",
    "correct_path=\"rrrffffffrr\"\n",
    "robot_path=\"\"\n",
    "\n",
    "n=1\n",
    "while(True):\n",
    "        print(\"Current robot path is: \",robot_path)\n",
    "        direction = input(\"Enter the direction: \")\n",
    "        if((direction==\"right\") or (direction==\"Right\")):\n",
    "            \n",
    "            n=n+1\n",
    "            if (robot_path==\"\") or (robot_path==\"r\") or (robot_path==\"rr\") or (robot_path==\"rrrfff\") or (robot_path==\"rrrffffff\") or (robot_path==\"rrrffffffr\") or (robot_path==\"rrrfffr\"):\n",
    "                robot_path=robot_path[0:len(robot_path)] + \"r\"\n",
    "            else:\n",
    "                print(\"there is a wall at right side.\")\n",
    "            \n",
    "        elif ((direction==\"forward\") or (direction==\"Forward\")):\n",
    "            \n",
    "            if (robot_path==\"rrr\") or (robot_path==\"rrrf\") or (robot_path==\"rrrff\") or (robot_path==\"rrrfff\") or (robot_path==\"rrrffff\") or (robot_path==\"rrrfffff\") or (robot_path==\"rrrfffff\") or (robot_path==\"rrrfffrrb\"):\n",
    "                robot_path=robot_path[0:len(robot_path)]+\"f\"\n",
    "            else: \n",
    "                print(\"wall infront of you! you cannot go there\") \n",
    "            \n",
    "        elif ((direction==\"left\") or (direction==\"Left\")):\n",
    "                \n",
    "            if (robot_path==\"r\") or (robot_path==\"rr\") or (robot_path==\"rrr\") or (robot_path==\"rrrffffffr\") or (robot_path==\"rrrfffr\") or (robot_path==\"rrrfffrr\"):\n",
    "                robot_path=robot_path[0:len(robot_path)]+\"l\"\n",
    "            else:\n",
    "                print(\"there is a wall at you left. you cannot move left.\")\n",
    "                \n",
    "        elif((direction==\"back\") or (direction==\"Back\")):\n",
    "            \n",
    "            if (robot_path==\"rrrf\") or (robot_path==\"rrrff\") or (robot_path==\"rrrfff\") or (robot_path==\"rrrffff\") or (robot_path==\"rrrfffff\") or (robot_path==\"rrrffffff\") or (robot_path==\"rrrfffrr\"):\n",
    "                robot_path=robot_path[0:len(robot_path)]+\"b\"\n",
    "            else:\n",
    "                print(\"there is a wall at your back. you cannot move back\")\n",
    "                    \n",
    "        if (n!=1):\n",
    "            if (robot_path[-1]==\"l\") and (robot_path[-2]==\"r\"):\n",
    "                robot_path=robot_path[0:-2]\n",
    "                \n",
    "            elif (robot_path[-1]==\"b\") and (robot_path[-2]==\"f\"):\n",
    "                robot_path=robot_path[0:-2]\n",
    "            elif (robot_path[-1]==\"f\") and (robot_path[-2]==\"b\"):\n",
    "                robot_path=robot_path[0:-2]\n",
    "        \n",
    "        \n",
    "        if (robot_path == correct_path):\n",
    "            print(\"you solved the maze.\")\n",
    "            break\n",
    "\n"
   ]
  },
  {
   "cell_type": "code",
   "execution_count": null,
   "id": "3dff2c49",
   "metadata": {},
   "outputs": [],
   "source": []
  },
  {
   "cell_type": "code",
   "execution_count": null,
   "id": "5265bb08",
   "metadata": {},
   "outputs": [],
   "source": []
  }
 ],
 "metadata": {
  "kernelspec": {
   "display_name": "Python 3 (ipykernel)",
   "language": "python",
   "name": "python3"
  },
  "language_info": {
   "codemirror_mode": {
    "name": "ipython",
    "version": 3
   },
   "file_extension": ".py",
   "mimetype": "text/x-python",
   "name": "python",
   "nbconvert_exporter": "python",
   "pygments_lexer": "ipython3",
   "version": "3.10.5"
  }
 },
 "nbformat": 4,
 "nbformat_minor": 5
}
