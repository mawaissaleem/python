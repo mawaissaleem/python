{
 "cells": [
  {
   "cell_type": "code",
   "execution_count": 31,
   "id": "7bc91b74",
   "metadata": {},
   "outputs": [
    {
     "name": "stdout",
     "output_type": "stream",
     "text": [
      "initial state of a is:  [1, 2, 3] b is:  [] c is:  []\n",
      "final state of a is:  [] b is:  [] c is:  [1, 2, 3]\n"
     ]
    }
   ],
   "source": [
    "a=[1,2,3] #1 is the biggest tile and 3 is the smallest\n",
    "b=[]\n",
    "c=[]\n",
    "print(\"initial state of a is: \",a,\"b is: \",b,\"c is: \",c)\n",
    "# while (c!=[1,2,3]):\n",
    "#     if(c==[]):\n",
    "#         c[0]=a.pop()\n",
    "#         break\n",
    "\n",
    "for i in range(7):\n",
    "    if(c==[] and b==[]):\n",
    "        c.append(a.pop())\n",
    "        #print(a,b,c)\n",
    "    elif (b==[] and c==[3]):\n",
    "        b.append(a.pop())\n",
    "        #print(a,b,c)\n",
    "    elif (b==[2] and c==[3]):\n",
    "        b.append(c.pop())\n",
    "        #print(a,b,c)\n",
    "    elif (c==[]):\n",
    "        c.append(a.pop())\n",
    "        #print(a,b,c)\n",
    "    elif(a==[]):\n",
    "        a.append(b.pop())\n",
    "        #print(a,b,c)\n",
    "    elif(c==[1] and b==[2]):\n",
    "        c.append(b.pop())\n",
    "        #print(a,b,c)\n",
    "    else:\n",
    "        c.append(a.pop())\n",
    "        #print(a,b,c)\n",
    "\n",
    "print(\"final state of a is: \",a,\"b is: \",b,\"c is: \",c)"
   ]
  },
  {
   "cell_type": "code",
   "execution_count": null,
   "id": "9a1f5526",
   "metadata": {},
   "outputs": [],
   "source": []
  }
 ],
 "metadata": {
  "kernelspec": {
   "display_name": "Python 3 (ipykernel)",
   "language": "python",
   "name": "python3"
  },
  "language_info": {
   "codemirror_mode": {
    "name": "ipython",
    "version": 3
   },
   "file_extension": ".py",
   "mimetype": "text/x-python",
   "name": "python",
   "nbconvert_exporter": "python",
   "pygments_lexer": "ipython3",
   "version": "3.10.5"
  }
 },
 "nbformat": 4,
 "nbformat_minor": 5
}
